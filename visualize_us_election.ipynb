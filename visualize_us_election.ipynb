{
 "cells": [
  {
   "cell_type": "markdown",
   "metadata": {},
   "source": [
    "<img src=\"image/trump_vs_biden.jpg\" alt=\"drawing\" width=\"500\"/>"
   ]
  },
  {
   "cell_type": "code",
   "execution_count": 1,
   "metadata": {},
   "outputs": [
    {
     "ename": "ModuleNotFoundError",
     "evalue": "No module named 'plotly'",
     "output_type": "error",
     "traceback": [
      "\u001b[1;31m---------------------------------------------------------------------------\u001b[0m",
      "\u001b[1;31mModuleNotFoundError\u001b[0m                       Traceback (most recent call last)",
      "\u001b[1;32m<ipython-input-1-914fb552512c>\u001b[0m in \u001b[0;36m<module>\u001b[1;34m\u001b[0m\n\u001b[0;32m      2\u001b[0m \u001b[1;32mimport\u001b[0m \u001b[0mnumpy\u001b[0m \u001b[1;32mas\u001b[0m \u001b[0mnp\u001b[0m\u001b[1;33m\u001b[0m\u001b[1;33m\u001b[0m\u001b[0m\n\u001b[0;32m      3\u001b[0m \u001b[1;32mfrom\u001b[0m \u001b[0mmatplotlib\u001b[0m \u001b[1;32mimport\u001b[0m \u001b[0mpyplot\u001b[0m \u001b[1;32mas\u001b[0m \u001b[0mplt\u001b[0m\u001b[1;33m\u001b[0m\u001b[1;33m\u001b[0m\u001b[0m\n\u001b[1;32m----> 4\u001b[1;33m \u001b[1;32mimport\u001b[0m \u001b[0mplotly\u001b[0m\u001b[1;33m.\u001b[0m\u001b[0mexpress\u001b[0m \u001b[1;32mas\u001b[0m \u001b[0mpx\u001b[0m\u001b[1;33m\u001b[0m\u001b[1;33m\u001b[0m\u001b[0m\n\u001b[0m\u001b[0;32m      5\u001b[0m \u001b[1;32mimport\u001b[0m \u001b[0mplotly\u001b[0m\u001b[1;33m.\u001b[0m\u001b[0mgraph_objects\u001b[0m \u001b[1;32mas\u001b[0m \u001b[0mgo\u001b[0m\u001b[1;33m\u001b[0m\u001b[1;33m\u001b[0m\u001b[0m\n\u001b[0;32m      6\u001b[0m \u001b[1;32mimport\u001b[0m \u001b[0mplotly\u001b[0m\u001b[1;33m.\u001b[0m\u001b[0mfigure_factory\u001b[0m \u001b[1;32mas\u001b[0m \u001b[0mff\u001b[0m\u001b[1;33m\u001b[0m\u001b[1;33m\u001b[0m\u001b[0m\n",
      "\u001b[1;31mModuleNotFoundError\u001b[0m: No module named 'plotly'"
     ]
    }
   ],
   "source": [
    "import pandas as pd\n",
    "import numpy as np\n",
    "from matplotlib import pyplot as plt\n",
    "import plotly.express as px\n",
    "import plotly.graph_objects as go\n",
    "import plotly.figure_factory as ff"
   ]
  },
  {
   "cell_type": "code",
   "execution_count": null,
   "metadata": {},
   "outputs": [],
   "source": [
    "data = pd.read_csv(\"data/president_county_candidate.csv\")\n",
    "data.head()"
   ]
  },
  {
   "cell_type": "code",
   "execution_count": null,
   "metadata": {},
   "outputs": [],
   "source": [
    "total_votes_trump = data[data['candidate'] == \"Donald Trump\"]['votes'].sum()\n",
    "print(\"total votes Trump: {}\".format(total_votes_trump))"
   ]
  },
  {
   "cell_type": "code",
   "execution_count": null,
   "metadata": {},
   "outputs": [],
   "source": [
    "total_votes_biden = data[data['candidate'] == \"Joe Biden\"]['votes'].sum()\n",
    "print(\"total votes Biden: {}\".format(total_votes_biden))"
   ]
  },
  {
   "cell_type": "code",
   "execution_count": null,
   "metadata": {},
   "outputs": [],
   "source": [
    "# percentage of total votes\n",
    "total_votes = data['votes'].sum()\n",
    "\n",
    "percentage_trump = total_votes_trump / total_votes\n",
    "percentage_biden = total_votes_biden / total_votes\n",
    "print(\"Percentage of votes for Trump: {}\".format(percentage_trump))\n",
    "print(\"Percentage of votes for Biden: {}\".format(percentage_biden))"
   ]
  },
  {
   "cell_type": "code",
   "execution_count": null,
   "metadata": {},
   "outputs": [],
   "source": [
    "# plot total votes\n",
    "\n",
    "votes = [total_votes_biden, total_votes_trump]\n",
    "names = ['Joe Biden', 'Donald Trump']\n",
    "x = np.arange(len(votes))\n",
    "\n",
    "# Create bars\n",
    "plt.bar(x, votes, color=[\"blue\", \"red\"])\n",
    "\n",
    "plt.xticks(x, names)\n",
    "plt.xlabel(\"Candidates\")\n",
    "plt.ylabel(\"Total votes\")\n",
    "plt.title(\"Total votes for each candidate\")\n",
    " \n",
    "# Show graphic\n",
    "plt.show()"
   ]
  },
  {
   "cell_type": "code",
   "execution_count": null,
   "metadata": {},
   "outputs": [],
   "source": [
    "# plot percentages\n",
    "\n",
    "votes = [percentage_biden, percentage_trump]\n",
    "names = ['Joe Biden', 'Donald Trump']\n",
    "x = np.arange(len(votes))\n",
    " \n",
    "# Create bars\n",
    "plt.bar(x, votes, color=[\"blue\", \"red\"])\n",
    "\n",
    "plt.xticks(x, names)\n",
    "plt.xlabel(\"Candidates\")\n",
    "plt.ylabel(\"% of votes\")\n",
    "plt.title(\"Percentage of votes for each candidate\")\n",
    " \n",
    "# Show graphic\n",
    "plt.show()"
   ]
  },
  {
   "cell_type": "code",
   "execution_count": null,
   "metadata": {},
   "outputs": [],
   "source": [
    "###########################\n",
    "# Who has won the election?\n",
    "###########################\n",
    "\n",
    "df = pd.read_csv(\"data/president_county_candidate.csv\")\n",
    "df.head()"
   ]
  },
  {
   "cell_type": "code",
   "execution_count": null,
   "metadata": {},
   "outputs": [],
   "source": [
    "# collect total votes for each party\n",
    "dem = df[df[\"party\"] == \"DEM\"]\n",
    "rep = df[df[\"party\"] == \"REP\"]"
   ]
  },
  {
   "cell_type": "code",
   "execution_count": null,
   "metadata": {},
   "outputs": [],
   "source": [
    "# sum up votes for each state\n",
    "dem_votes_per_state = dem.groupby([\"state\"]).sum()\n",
    "rep_votes_per_state = rep.groupby([\"state\"]).sum()"
   ]
  },
  {
   "cell_type": "code",
   "execution_count": null,
   "metadata": {},
   "outputs": [],
   "source": [
    "rep_votes_per_state.head()"
   ]
  },
  {
   "cell_type": "code",
   "execution_count": null,
   "metadata": {},
   "outputs": [],
   "source": [
    "# combine votes for dems and reps by adding new column\n",
    "dem_votes_per_state[\"rep_votes\"] = rep_votes_per_state[\"votes\"]\n",
    "dem_votes_per_state.head()"
   ]
  },
  {
   "cell_type": "code",
   "execution_count": null,
   "metadata": {},
   "outputs": [],
   "source": [
    "# add winner of state to list (winner of a state is the one who has more votes)\n",
    "lis = []\n",
    "for index, row in dem_votes_per_state.iterrows():\n",
    "    if row[\"votes\"] > row[\"rep_votes\"]:\n",
    "        lis.append(\"DEM\")\n",
    "    else:\n",
    "        lis.append(\"REP\")"
   ]
  },
  {
   "cell_type": "code",
   "execution_count": null,
   "metadata": {},
   "outputs": [],
   "source": [
    "# add winner-list to dataframe\n",
    "arr = np.array(lis)\n",
    "dem_votes_per_state[\"winner\"] = arr\n",
    "dem_votes_per_state.head()"
   ]
  },
  {
   "cell_type": "code",
   "execution_count": null,
   "metadata": {},
   "outputs": [],
   "source": [
    "# visualize US map\n",
    "# Map visualizes each state and its winner (Blue: Democrats; Red: Republicans) \n",
    "\n",
    "state_codes = pd.read_csv(\"data/world_country_and_usa_states_latitude_and_longitude_values.csv\")\n",
    "\n",
    "dem_votes_per_state = dem_votes_per_state.merge(state_codes, left_on='state', right_on='usa_state')\n",
    "\n",
    "\n",
    "fig = px.choropleth(dem_votes_per_state, locations='usa_state_code', color=\"winner\",\n",
    "                           color_discrete_sequence  = [\"red\", \"blue\"],\n",
    "                           locationmode = 'USA-states',  \n",
    "                           scope=\"usa\",\n",
    "                           title='USA Presidential Votes Counts' \n",
    "                          )\n",
    "fig.update_layout(margin={\"r\":0,\"t\":0,\"l\":0,\"b\":0})\n",
    "fig.show()"
   ]
  },
  {
   "cell_type": "code",
   "execution_count": null,
   "metadata": {},
   "outputs": [],
   "source": [
    "# Electoral College\n",
    "\n",
    "# list of electoral voters for each state, sorted by alphabet\n",
    "lis = [9,3,11,6,55,9,7,3,3,29,16,4,4,20,11,6,6,\n",
    "      8,8,4,10,11,16,10,6,10,3,5,6,4,14,5,29,15,\n",
    "      3,18,7,7,20,4,9,3,11,38,6,3,13,12,5,10,3]\n",
    "\n",
    "electoral_votes_per_state = np.array(lis)\n",
    "# add electoral voters to dataframe\n",
    "dem_votes_per_state[\"electoral_votes\"] = electoral_votes_per_state"
   ]
  },
  {
   "cell_type": "code",
   "execution_count": null,
   "metadata": {},
   "outputs": [],
   "source": [
    "dem_votes_per_state.head()"
   ]
  },
  {
   "cell_type": "code",
   "execution_count": null,
   "metadata": {},
   "outputs": [],
   "source": [
    "# calculate total amount of electoral votes\n",
    "electoral_votes_biden = dem_votes_per_state[dem_votes_per_state[\"winner\"] == \"DEM\"][\"electoral_votes\"].sum()\n",
    "electoral_votes_trump = dem_votes_per_state[dem_votes_per_state[\"winner\"] == \"REP\"][\"electoral_votes\"].sum()\n",
    "print(electoral_votes_biden)\n",
    "print(electoral_votes_trump)"
   ]
  },
  {
   "cell_type": "code",
   "execution_count": null,
   "metadata": {},
   "outputs": [],
   "source": [
    "# visualize outcome of election\n",
    "fig = go.Figure(go.Bar(\n",
    "            x=[306, 232],\n",
    "            y=['Biden', 'Trump'],\n",
    "            orientation='h'))\n",
    "\n",
    "fig.update_yaxes(title_text=\"Candidates\")\n",
    "\n",
    "fig.show()"
   ]
  }
 ],
 "metadata": {
  "kernelspec": {
   "display_name": "Python 3",
   "language": "python",
   "name": "python3"
  },
  "language_info": {
   "codemirror_mode": {
    "name": "ipython",
    "version": 3
   },
   "file_extension": ".py",
   "mimetype": "text/x-python",
   "name": "python",
   "nbconvert_exporter": "python",
   "pygments_lexer": "ipython3",
   "version": "3.7.6"
  }
 },
 "nbformat": 4,
 "nbformat_minor": 4
}
